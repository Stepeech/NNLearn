{
  "cells": [
    {
      "cell_type": "markdown",
      "metadata": {
        "id": "view-in-github",
        "colab_type": "text"
      },
      "source": [
        "<a href=\"https://colab.research.google.com/github/Stepeech/NNLearn/blob/main/%D0%9F%D0%A04.ipynb\" target=\"_parent\"><img src=\"https://colab.research.google.com/assets/colab-badge.svg\" alt=\"Open In Colab\"/></a>"
      ]
    },
    {
      "cell_type": "markdown",
      "metadata": {
        "id": "5FTzd6Tr1HE6"
      },
      "source": [
        "# Построение сверточной нейронной сети для классификации изображений из датасета CIFAR-100, с использованием BatchNormalization() и Dropout()"
      ]
    },
    {
      "cell_type": "markdown",
      "metadata": {
        "id": "gdX9a26i5B-4"
      },
      "source": [
        "[Код с пары](https://colab.research.google.com/drive/1cvPrPI09ySQy-D92gKTzmanVi2cj5Gw_?usp=sharing)"
      ]
    },
    {
      "cell_type": "markdown",
      "metadata": {
        "id": "PegOFe6t0NPk"
      },
      "source": [
        "### Задание 1. Загрузите исходный датасет. Разделите его на обучающую и тестовую выборки. Визуализируйте несколько изображений из датасета. Произведите нормализацию данных. \n",
        "\n",
        "\n",
        "*P.S.: Не забудьте обратить внимание на размерность (shape) исходных данных и при необходимости измените её (см. примеры из предыдущих занятий)*\n",
        "\n",
        "[Информация о датасете в Kaggle](https://www.kaggle.com/datasets/fedesoriano/cifar100?resource=download&select=meta)\n",
        "\n",
        "[Техническая документация по использованию датасета в Keras](https://keras.io/api/datasets/cifar100/)\n",
        "\n",
        "\n",
        "\n"
      ]
    },
    {
      "cell_type": "code",
      "execution_count": 1,
      "metadata": {
        "colab": {
          "base_uri": "https://localhost:8080/"
        },
        "id": "SSerkZhqz-Zu",
        "outputId": "3a112a06-602c-49b2-bd36-f2a50055b4a1"
      },
      "outputs": [
        {
          "output_type": "stream",
          "name": "stdout",
          "text": [
            "Downloading data from https://www.cs.toronto.edu/~kriz/cifar-100-python.tar.gz\n",
            "169001437/169001437 [==============================] - 6s 0us/step\n",
            "Train: X =  (50000, 32, 32, 3)\n",
            "Train: Y =  (50000, 100)\n",
            "Test: X =  (10000, 32, 32, 3)\n",
            "Test: Y =  (10000, 100)\n"
          ]
        }
      ],
      "source": [
        "from tensorflow import keras\n",
        "\n",
        "(trainX, trainY), (testX, testY) = keras.datasets.cifar100.load_data()\n",
        "trainX = trainX.astype('float32') / 255\n",
        "testX = testX.astype('float32') / 255\n",
        "\n",
        "trainY = keras.utils.to_categorical(trainY, 100)\n",
        "testY = keras.utils.to_categorical(testY, 100)\n",
        "\n",
        "print('Train: X = ', trainX.shape)\n",
        "print('Train: Y = ', trainY.shape)\n",
        "print('Test: X = ', testX.shape)\n",
        "print('Test: Y = ', testY.shape)"
      ]
    },
    {
      "cell_type": "markdown",
      "metadata": {
        "id": "ne7OBLid0NY-"
      },
      "source": [
        "### Задание 2. Создайте модель сверточной нейронной сети для решения поставленной задачи без использования BatchNormalization() и Dropout(). \n",
        "\n",
        "Имя данной модели: model_1"
      ]
    },
    {
      "cell_type": "code",
      "execution_count": 2,
      "metadata": {
        "colab": {
          "base_uri": "https://localhost:8080/"
        },
        "id": "Gy0_n8G03kcU",
        "outputId": "72f1f285-27e1-476e-f34a-341117c171cc"
      },
      "outputs": [
        {
          "output_type": "stream",
          "name": "stdout",
          "text": [
            "Model: \"sequential\"\n",
            "_________________________________________________________________\n",
            " Layer (type)                Output Shape              Param #   \n",
            "=================================================================\n",
            " conv2d (Conv2D)             (None, 32, 32, 32)        896       \n",
            "                                                                 \n",
            " activation (Activation)     (None, 32, 32, 32)        0         \n",
            "                                                                 \n",
            " conv2d_1 (Conv2D)           (None, 30, 30, 32)        9248      \n",
            "                                                                 \n",
            " activation_1 (Activation)   (None, 30, 30, 32)        0         \n",
            "                                                                 \n",
            " max_pooling2d (MaxPooling2D  (None, 15, 15, 32)       0         \n",
            " )                                                               \n",
            "                                                                 \n",
            " conv2d_2 (Conv2D)           (None, 15, 15, 64)        18496     \n",
            "                                                                 \n",
            " activation_2 (Activation)   (None, 15, 15, 64)        0         \n",
            "                                                                 \n",
            " conv2d_3 (Conv2D)           (None, 13, 13, 64)        36928     \n",
            "                                                                 \n",
            " activation_3 (Activation)   (None, 13, 13, 64)        0         \n",
            "                                                                 \n",
            " max_pooling2d_1 (MaxPooling  (None, 6, 6, 64)         0         \n",
            " 2D)                                                             \n",
            "                                                                 \n",
            " flatten (Flatten)           (None, 2304)              0         \n",
            "                                                                 \n",
            " dense (Dense)               (None, 512)               1180160   \n",
            "                                                                 \n",
            " activation_4 (Activation)   (None, 512)               0         \n",
            "                                                                 \n",
            " dense_1 (Dense)             (None, 256)               131328    \n",
            "                                                                 \n",
            " activation_5 (Activation)   (None, 256)               0         \n",
            "                                                                 \n",
            " dense_2 (Dense)             (None, 100)               25700     \n",
            "                                                                 \n",
            " activation_6 (Activation)   (None, 100)               0         \n",
            "                                                                 \n",
            "=================================================================\n",
            "Total params: 1,402,756\n",
            "Trainable params: 1,402,756\n",
            "Non-trainable params: 0\n",
            "_________________________________________________________________\n"
          ]
        }
      ],
      "source": [
        "from keras.layers import Activation, BatchNormalization, Dropout, Conv2D, Dense, Flatten, MaxPooling2D\n",
        "from keras.models import Sequential\n",
        "\n",
        "model_1 = Sequential()\n",
        "model_1.add(Conv2D(32, (3, 3), padding='same', input_shape=(32, 32, 3)))\n",
        "model_1.add(Activation('relu'))\n",
        "model_1.add(Conv2D(32, (3, 3)))\n",
        "model_1.add(Activation('relu'))\n",
        "model_1.add(MaxPooling2D(pool_size=(2, 2)))\n",
        "\n",
        "model_1.add(Conv2D(64, (3, 3), padding='same'))\n",
        "model_1.add(Activation('relu'))\n",
        "model_1.add(Conv2D(64, (3, 3)))\n",
        "model_1.add(Activation('relu'))\n",
        "model_1.add(MaxPooling2D(pool_size=(2, 2)))\n",
        "\n",
        "model_1.add(Flatten())\n",
        "model_1.add(Dense(512))\n",
        "model_1.add(Activation('relu'))\n",
        "model_1.add(Dense(256))\n",
        "model_1.add(Activation('relu'))\n",
        "model_1.add(Dense(100))\n",
        "model_1.add(Activation('softmax'))\n",
        "\n",
        "model_1.compile(loss='categorical_crossentropy', optimizer='adam', metrics=['accuracy'])\n",
        "\n",
        "model_1.summary()"
      ]
    },
    {
      "cell_type": "markdown",
      "metadata": {
        "id": "69zrqqaA5kOd"
      },
      "source": [
        "Обучите созданную модель"
      ]
    },
    {
      "cell_type": "code",
      "execution_count": 6,
      "metadata": {
        "id": "6uBAnPDU5s5I",
        "colab": {
          "base_uri": "https://localhost:8080/"
        },
        "outputId": "d1556bf5-cd3a-4ee5-a19f-956132846882"
      },
      "outputs": [
        {
          "output_type": "stream",
          "name": "stdout",
          "text": [
            "Epoch 1/12\n",
            "200/200 [==============================] - 4s 20ms/step - loss: 0.1198 - accuracy: 0.9613 - val_loss: 6.8809 - val_accuracy: 0.3787\n",
            "Epoch 2/12\n",
            "200/200 [==============================] - 4s 18ms/step - loss: 0.1039 - accuracy: 0.9662 - val_loss: 7.2353 - val_accuracy: 0.3717\n",
            "Epoch 3/12\n",
            "200/200 [==============================] - 4s 20ms/step - loss: 0.1171 - accuracy: 0.9627 - val_loss: 7.2854 - val_accuracy: 0.3772\n",
            "Epoch 4/12\n",
            "200/200 [==============================] - 4s 19ms/step - loss: 0.0963 - accuracy: 0.9685 - val_loss: 7.3133 - val_accuracy: 0.3678\n",
            "Epoch 5/12\n",
            "200/200 [==============================] - 4s 18ms/step - loss: 0.1196 - accuracy: 0.9629 - val_loss: 7.2195 - val_accuracy: 0.3691\n",
            "Epoch 6/12\n",
            "200/200 [==============================] - 3s 17ms/step - loss: 0.1123 - accuracy: 0.9640 - val_loss: 7.4924 - val_accuracy: 0.3683\n",
            "Epoch 7/12\n",
            "200/200 [==============================] - 4s 19ms/step - loss: 0.1061 - accuracy: 0.9654 - val_loss: 7.2829 - val_accuracy: 0.3702\n",
            "Epoch 8/12\n",
            "200/200 [==============================] - 4s 18ms/step - loss: 0.1145 - accuracy: 0.9627 - val_loss: 7.5919 - val_accuracy: 0.3729\n",
            "Epoch 9/12\n",
            "200/200 [==============================] - 4s 18ms/step - loss: 0.1065 - accuracy: 0.9660 - val_loss: 7.6026 - val_accuracy: 0.3686\n",
            "Epoch 10/12\n",
            "200/200 [==============================] - 4s 19ms/step - loss: 0.0985 - accuracy: 0.9680 - val_loss: 7.5898 - val_accuracy: 0.3693\n",
            "Epoch 11/12\n",
            "200/200 [==============================] - 4s 19ms/step - loss: 0.0956 - accuracy: 0.9675 - val_loss: 7.9457 - val_accuracy: 0.3708\n",
            "Epoch 12/12\n",
            "200/200 [==============================] - 4s 18ms/step - loss: 0.1017 - accuracy: 0.9672 - val_loss: 7.7150 - val_accuracy: 0.3701\n"
          ]
        }
      ],
      "source": [
        "batch_size = 250\n",
        "epochs = 12\n",
        "model_1_history = model_1.fit(trainX, trainY, batch_size=batch_size, epochs=epochs, verbose=1, validation_data=(testX, testY))"
      ]
    },
    {
      "cell_type": "markdown",
      "metadata": {
        "id": "07x5ciPl0Njy"
      },
      "source": [
        "### Задание 3. Создайте модель сверточной нейронной сети для решения поставленной задачи с использованием BatchNormalization(). \n",
        "\n",
        "Имя данной модели: model_2"
      ]
    },
    {
      "cell_type": "code",
      "execution_count": 5,
      "metadata": {
        "colab": {
          "base_uri": "https://localhost:8080/"
        },
        "id": "vy9H9gcJ3kzl",
        "outputId": "4ea15cb2-9bf3-40c1-95f7-36046972526b"
      },
      "outputs": [
        {
          "output_type": "stream",
          "name": "stdout",
          "text": [
            "Model: \"sequential_1\"\n",
            "_________________________________________________________________\n",
            " Layer (type)                Output Shape              Param #   \n",
            "=================================================================\n",
            " conv2d_4 (Conv2D)           (None, 32, 32, 32)        896       \n",
            "                                                                 \n",
            " activation_7 (Activation)   (None, 32, 32, 32)        0         \n",
            "                                                                 \n",
            " conv2d_5 (Conv2D)           (None, 30, 30, 32)        9248      \n",
            "                                                                 \n",
            " activation_8 (Activation)   (None, 30, 30, 32)        0         \n",
            "                                                                 \n",
            " batch_normalization (BatchN  (None, 30, 30, 32)       128       \n",
            " ormalization)                                                   \n",
            "                                                                 \n",
            " max_pooling2d_2 (MaxPooling  (None, 15, 15, 32)       0         \n",
            " 2D)                                                             \n",
            "                                                                 \n",
            " conv2d_6 (Conv2D)           (None, 15, 15, 64)        18496     \n",
            "                                                                 \n",
            " activation_9 (Activation)   (None, 15, 15, 64)        0         \n",
            "                                                                 \n",
            " batch_normalization_1 (Batc  (None, 15, 15, 64)       256       \n",
            " hNormalization)                                                 \n",
            "                                                                 \n",
            " conv2d_7 (Conv2D)           (None, 13, 13, 64)        36928     \n",
            "                                                                 \n",
            " activation_10 (Activation)  (None, 13, 13, 64)        0         \n",
            "                                                                 \n",
            " batch_normalization_2 (Batc  (None, 13, 13, 64)       256       \n",
            " hNormalization)                                                 \n",
            "                                                                 \n",
            " max_pooling2d_3 (MaxPooling  (None, 6, 6, 64)         0         \n",
            " 2D)                                                             \n",
            "                                                                 \n",
            " flatten_1 (Flatten)         (None, 2304)              0         \n",
            "                                                                 \n",
            " dense_3 (Dense)             (None, 512)               1180160   \n",
            "                                                                 \n",
            " activation_11 (Activation)  (None, 512)               0         \n",
            "                                                                 \n",
            " dense_4 (Dense)             (None, 256)               131328    \n",
            "                                                                 \n",
            " activation_12 (Activation)  (None, 256)               0         \n",
            "                                                                 \n",
            " batch_normalization_3 (Batc  (None, 256)              1024      \n",
            " hNormalization)                                                 \n",
            "                                                                 \n",
            " dense_5 (Dense)             (None, 100)               25700     \n",
            "                                                                 \n",
            " activation_13 (Activation)  (None, 100)               0         \n",
            "                                                                 \n",
            "=================================================================\n",
            "Total params: 1,404,420\n",
            "Trainable params: 1,403,588\n",
            "Non-trainable params: 832\n",
            "_________________________________________________________________\n"
          ]
        }
      ],
      "source": [
        "model_2 = Sequential()\n",
        "model_2.add(Conv2D(32, (3, 3), padding='same', input_shape=(32, 32, 3)))\n",
        "model_2.add(Activation('relu'))\n",
        "model_2.add(Conv2D(32, (3, 3)))\n",
        "model_2.add(Activation('relu'))\n",
        "\n",
        "model_2.add(BatchNormalization())\n",
        "model_2.add(MaxPooling2D(pool_size=(2, 2)))\n",
        "\n",
        "model_2.add(Conv2D(64, (3, 3), padding='same'))\n",
        "model_2.add(Activation('relu'))\n",
        "model_2.add(BatchNormalization())\n",
        "model_2.add(Conv2D(64, (3, 3)))\n",
        "model_2.add(Activation('relu'))\n",
        "model_2.add(BatchNormalization())\n",
        "model_2.add(MaxPooling2D(pool_size=(2, 2)))\n",
        "\n",
        "model_2.add(Flatten())\n",
        "model_2.add(Dense(512))\n",
        "model_2.add(Activation('relu'))\n",
        "model_2.add(Dense(256))\n",
        "model_2.add(Activation('relu'))\n",
        "model_2.add(BatchNormalization())\n",
        "model_2.add(Dense(100))\n",
        "model_2.add(Activation('softmax'))\n",
        "\n",
        "model_2.compile(loss='categorical_crossentropy', optimizer='adam', metrics=['accuracy'])\n",
        "\n",
        "model_2.summary()"
      ]
    },
    {
      "cell_type": "markdown",
      "metadata": {
        "id": "7vrswF436DNo"
      },
      "source": [
        "Обучите созданную модель"
      ]
    },
    {
      "cell_type": "code",
      "execution_count": 7,
      "metadata": {
        "id": "2xOOok5l6DNo",
        "colab": {
          "base_uri": "https://localhost:8080/"
        },
        "outputId": "175224ce-e178-4abb-fbbe-132cccd15be5"
      },
      "outputs": [
        {
          "output_type": "stream",
          "name": "stdout",
          "text": [
            "Epoch 1/12\n",
            "250/250 [==============================] - 10s 21ms/step - loss: 3.3739 - accuracy: 0.2045 - val_loss: 5.4158 - val_accuracy: 0.0269\n",
            "Epoch 2/12\n",
            "250/250 [==============================] - 4s 17ms/step - loss: 2.4268 - accuracy: 0.3780 - val_loss: 3.2797 - val_accuracy: 0.2332\n",
            "Epoch 3/12\n",
            "250/250 [==============================] - 4s 17ms/step - loss: 1.9283 - accuracy: 0.4907 - val_loss: 2.2829 - val_accuracy: 0.4145\n",
            "Epoch 4/12\n",
            "250/250 [==============================] - 4s 18ms/step - loss: 1.5069 - accuracy: 0.5888 - val_loss: 2.3065 - val_accuracy: 0.4243\n",
            "Epoch 5/12\n",
            "250/250 [==============================] - 4s 17ms/step - loss: 1.0691 - accuracy: 0.7050 - val_loss: 2.4696 - val_accuracy: 0.4247\n",
            "Epoch 6/12\n",
            "250/250 [==============================] - 5s 19ms/step - loss: 0.6328 - accuracy: 0.8272 - val_loss: 2.6844 - val_accuracy: 0.4128\n",
            "Epoch 7/12\n",
            "250/250 [==============================] - 5s 19ms/step - loss: 0.3058 - accuracy: 0.9257 - val_loss: 2.9684 - val_accuracy: 0.4092\n",
            "Epoch 8/12\n",
            "250/250 [==============================] - 4s 18ms/step - loss: 0.1327 - accuracy: 0.9742 - val_loss: 3.0921 - val_accuracy: 0.4064\n",
            "Epoch 9/12\n",
            "250/250 [==============================] - 6s 23ms/step - loss: 0.0577 - accuracy: 0.9922 - val_loss: 3.1039 - val_accuracy: 0.4245\n",
            "Epoch 10/12\n",
            "250/250 [==============================] - 6s 23ms/step - loss: 0.0277 - accuracy: 0.9976 - val_loss: 3.0768 - val_accuracy: 0.4427\n",
            "Epoch 11/12\n",
            "250/250 [==============================] - 5s 20ms/step - loss: 0.0144 - accuracy: 0.9991 - val_loss: 3.1174 - val_accuracy: 0.4396\n",
            "Epoch 12/12\n",
            "250/250 [==============================] - 4s 16ms/step - loss: 0.0099 - accuracy: 0.9991 - val_loss: 3.2962 - val_accuracy: 0.4249\n"
          ]
        }
      ],
      "source": [
        "batch_size = 200\n",
        "epochs = 12\n",
        "model_2_history = model_2.fit(trainX, trainY, batch_size=batch_size, epochs=epochs, verbose=1, validation_data=(testX, testY))"
      ]
    },
    {
      "cell_type": "markdown",
      "metadata": {
        "id": "386TvloP3lJF"
      },
      "source": [
        "### Задание 4. Создайте модель сверточной нейронной сети для решения поставленной задачи с использованием Dropout(). \n",
        "\n",
        "Имя данной модели: model_3"
      ]
    },
    {
      "cell_type": "code",
      "execution_count": 8,
      "metadata": {
        "colab": {
          "base_uri": "https://localhost:8080/"
        },
        "id": "e-tkmz9d3lXx",
        "outputId": "9a4f049d-47f4-495c-c5c3-3a7fc20a5181"
      },
      "outputs": [
        {
          "output_type": "stream",
          "name": "stdout",
          "text": [
            "Model: \"sequential_2\"\n",
            "_________________________________________________________________\n",
            " Layer (type)                Output Shape              Param #   \n",
            "=================================================================\n",
            " conv2d_8 (Conv2D)           (None, 32, 32, 32)        896       \n",
            "                                                                 \n",
            " activation_14 (Activation)  (None, 32, 32, 32)        0         \n",
            "                                                                 \n",
            " conv2d_9 (Conv2D)           (None, 30, 30, 32)        9248      \n",
            "                                                                 \n",
            " activation_15 (Activation)  (None, 30, 30, 32)        0         \n",
            "                                                                 \n",
            " max_pooling2d_4 (MaxPooling  (None, 15, 15, 32)       0         \n",
            " 2D)                                                             \n",
            "                                                                 \n",
            " dropout (Dropout)           (None, 15, 15, 32)        0         \n",
            "                                                                 \n",
            " conv2d_10 (Conv2D)          (None, 15, 15, 64)        18496     \n",
            "                                                                 \n",
            " activation_16 (Activation)  (None, 15, 15, 64)        0         \n",
            "                                                                 \n",
            " conv2d_11 (Conv2D)          (None, 13, 13, 64)        36928     \n",
            "                                                                 \n",
            " activation_17 (Activation)  (None, 13, 13, 64)        0         \n",
            "                                                                 \n",
            " max_pooling2d_5 (MaxPooling  (None, 6, 6, 64)         0         \n",
            " 2D)                                                             \n",
            "                                                                 \n",
            " dropout_1 (Dropout)         (None, 6, 6, 64)          0         \n",
            "                                                                 \n",
            " flatten_2 (Flatten)         (None, 2304)              0         \n",
            "                                                                 \n",
            " dense_6 (Dense)             (None, 512)               1180160   \n",
            "                                                                 \n",
            " activation_18 (Activation)  (None, 512)               0         \n",
            "                                                                 \n",
            " dense_7 (Dense)             (None, 256)               131328    \n",
            "                                                                 \n",
            " activation_19 (Activation)  (None, 256)               0         \n",
            "                                                                 \n",
            " dropout_2 (Dropout)         (None, 256)               0         \n",
            "                                                                 \n",
            " dense_8 (Dense)             (None, 100)               25700     \n",
            "                                                                 \n",
            " activation_20 (Activation)  (None, 100)               0         \n",
            "                                                                 \n",
            "=================================================================\n",
            "Total params: 1,402,756\n",
            "Trainable params: 1,402,756\n",
            "Non-trainable params: 0\n",
            "_________________________________________________________________\n"
          ]
        }
      ],
      "source": [
        "model_3 = Sequential()\n",
        "model_3.add(Conv2D(32, (3, 3), padding='same', input_shape=(32, 32, 3)))\n",
        "model_3.add(Activation('relu'))\n",
        "model_3.add(Conv2D(32, (3, 3)))\n",
        "model_3.add(Activation('relu'))\n",
        "model_3.add(MaxPooling2D(pool_size=(2, 2)))\n",
        "model_3.add(Dropout(0.25))\n",
        "\n",
        "model_3.add(Conv2D(64, (3, 3), padding='same'))\n",
        "model_3.add(Activation('relu'))\n",
        "model_3.add(Conv2D(64, (3, 3)))\n",
        "model_3.add(Activation('relu'))\n",
        "model_3.add(MaxPooling2D(pool_size=(2, 2)))\n",
        "model_3.add(Dropout(0.25))\n",
        "\n",
        "model_3.add(Flatten())\n",
        "model_3.add(Dense(512))\n",
        "model_3.add(Activation('relu'))\n",
        "model_3.add(Dense(256))\n",
        "model_3.add(Activation('relu'))\n",
        "model_3.add(Dropout(0.5))\n",
        "model_3.add(Dense(100))\n",
        "model_3.add(Activation('softmax'))\n",
        "\n",
        "model_3.compile(loss='categorical_crossentropy', optimizer='adam', metrics=['accuracy'])\n",
        "\n",
        "model_3.summary()"
      ]
    },
    {
      "cell_type": "markdown",
      "metadata": {
        "id": "hehT-6re6RXv"
      },
      "source": [
        "Обучите созданную модель"
      ]
    },
    {
      "cell_type": "code",
      "execution_count": 9,
      "metadata": {
        "id": "c6HNFpOE6RXw",
        "colab": {
          "base_uri": "https://localhost:8080/"
        },
        "outputId": "6ebc389f-69d8-4756-d3e9-bd49a0250071"
      },
      "outputs": [
        {
          "output_type": "stream",
          "name": "stdout",
          "text": [
            "Epoch 1/12\n",
            "250/250 [==============================] - 8s 22ms/step - loss: 4.2994 - accuracy: 0.0416 - val_loss: 3.8324 - val_accuracy: 0.1102\n",
            "Epoch 2/12\n",
            "250/250 [==============================] - 5s 19ms/step - loss: 3.7266 - accuracy: 0.1221 - val_loss: 3.4041 - val_accuracy: 0.1952\n",
            "Epoch 3/12\n",
            "250/250 [==============================] - 5s 19ms/step - loss: 3.3727 - accuracy: 0.1856 - val_loss: 3.0588 - val_accuracy: 0.2521\n",
            "Epoch 4/12\n",
            "250/250 [==============================] - 5s 19ms/step - loss: 3.1211 - accuracy: 0.2344 - val_loss: 2.8624 - val_accuracy: 0.2908\n",
            "Epoch 5/12\n",
            "250/250 [==============================] - 5s 18ms/step - loss: 2.9349 - accuracy: 0.2703 - val_loss: 2.7051 - val_accuracy: 0.3174\n",
            "Epoch 6/12\n",
            "250/250 [==============================] - 5s 20ms/step - loss: 2.7788 - accuracy: 0.3033 - val_loss: 2.6332 - val_accuracy: 0.3343\n",
            "Epoch 7/12\n",
            "250/250 [==============================] - 5s 19ms/step - loss: 2.6442 - accuracy: 0.3308 - val_loss: 2.5296 - val_accuracy: 0.3574\n",
            "Epoch 8/12\n",
            "250/250 [==============================] - 5s 19ms/step - loss: 2.5419 - accuracy: 0.3526 - val_loss: 2.4315 - val_accuracy: 0.3774\n",
            "Epoch 9/12\n",
            "250/250 [==============================] - 5s 20ms/step - loss: 2.4348 - accuracy: 0.3696 - val_loss: 2.3979 - val_accuracy: 0.3813\n",
            "Epoch 10/12\n",
            "250/250 [==============================] - 5s 19ms/step - loss: 2.3516 - accuracy: 0.3915 - val_loss: 2.3390 - val_accuracy: 0.4001\n",
            "Epoch 11/12\n",
            "250/250 [==============================] - 5s 21ms/step - loss: 2.2652 - accuracy: 0.4095 - val_loss: 2.2745 - val_accuracy: 0.4128\n",
            "Epoch 12/12\n",
            "250/250 [==============================] - 5s 19ms/step - loss: 2.1985 - accuracy: 0.4203 - val_loss: 2.2428 - val_accuracy: 0.4169\n"
          ]
        }
      ],
      "source": [
        "batch_size = 200\n",
        "epochs = 12\n",
        "model_3_history = model_3.fit(trainX, trainY, batch_size=batch_size, epochs=epochs, verbose=1, validation_data=(testX, testY))"
      ]
    },
    {
      "cell_type": "markdown",
      "metadata": {
        "id": "qz2qhKtu7Jgf"
      },
      "source": [
        "### Задание 5. Создайте модель сверточной нейронной сети для решения поставленной задачи с использованием Dropout() и BatchNormalization().\n",
        "\n",
        "См. рекомендации [здесь](https://stackoverflow.com/questions/39691902/ordering-of-batch-normalization-and-dropout) и [здесь](https://www.kaggle.com/code/ryanholbrook/dropout-and-batch-normalization/)\n",
        "\n",
        "Имя данной модели: model_4"
      ]
    },
    {
      "cell_type": "code",
      "execution_count": 10,
      "metadata": {
        "colab": {
          "base_uri": "https://localhost:8080/"
        },
        "id": "dVuNM8lI7Jgo",
        "outputId": "57123ff6-b7fd-4718-bf96-3d4473be40a1"
      },
      "outputs": [
        {
          "output_type": "stream",
          "name": "stdout",
          "text": [
            "Model: \"sequential_3\"\n",
            "_________________________________________________________________\n",
            " Layer (type)                Output Shape              Param #   \n",
            "=================================================================\n",
            " conv2d_12 (Conv2D)          (None, 32, 32, 32)        896       \n",
            "                                                                 \n",
            " activation_21 (Activation)  (None, 32, 32, 32)        0         \n",
            "                                                                 \n",
            " conv2d_13 (Conv2D)          (None, 30, 30, 32)        9248      \n",
            "                                                                 \n",
            " activation_22 (Activation)  (None, 30, 30, 32)        0         \n",
            "                                                                 \n",
            " batch_normalization_4 (Batc  (None, 30, 30, 32)       128       \n",
            " hNormalization)                                                 \n",
            "                                                                 \n",
            " max_pooling2d_6 (MaxPooling  (None, 15, 15, 32)       0         \n",
            " 2D)                                                             \n",
            "                                                                 \n",
            " dropout_3 (Dropout)         (None, 15, 15, 32)        0         \n",
            "                                                                 \n",
            " conv2d_14 (Conv2D)          (None, 15, 15, 64)        18496     \n",
            "                                                                 \n",
            " activation_23 (Activation)  (None, 15, 15, 64)        0         \n",
            "                                                                 \n",
            " batch_normalization_5 (Batc  (None, 15, 15, 64)       256       \n",
            " hNormalization)                                                 \n",
            "                                                                 \n",
            " conv2d_15 (Conv2D)          (None, 13, 13, 64)        36928     \n",
            "                                                                 \n",
            " activation_24 (Activation)  (None, 13, 13, 64)        0         \n",
            "                                                                 \n",
            " batch_normalization_6 (Batc  (None, 13, 13, 64)       256       \n",
            " hNormalization)                                                 \n",
            "                                                                 \n",
            " max_pooling2d_7 (MaxPooling  (None, 6, 6, 64)         0         \n",
            " 2D)                                                             \n",
            "                                                                 \n",
            " dropout_4 (Dropout)         (None, 6, 6, 64)          0         \n",
            "                                                                 \n",
            " flatten_3 (Flatten)         (None, 2304)              0         \n",
            "                                                                 \n",
            " dense_9 (Dense)             (None, 512)               1180160   \n",
            "                                                                 \n",
            " activation_25 (Activation)  (None, 512)               0         \n",
            "                                                                 \n",
            " dense_10 (Dense)            (None, 256)               131328    \n",
            "                                                                 \n",
            " activation_26 (Activation)  (None, 256)               0         \n",
            "                                                                 \n",
            " dropout_5 (Dropout)         (None, 256)               0         \n",
            "                                                                 \n",
            " dense_11 (Dense)            (None, 100)               25700     \n",
            "                                                                 \n",
            " activation_27 (Activation)  (None, 100)               0         \n",
            "                                                                 \n",
            "=================================================================\n",
            "Total params: 1,403,396\n",
            "Trainable params: 1,403,076\n",
            "Non-trainable params: 320\n",
            "_________________________________________________________________\n"
          ]
        }
      ],
      "source": [
        "model_4 = Sequential()\n",
        "model_4.add(Conv2D(32, (3, 3), padding='same', input_shape=(32, 32, 3)))\n",
        "model_4.add(Activation('relu'))\n",
        "model_4.add(Conv2D(32, (3, 3)))\n",
        "model_4.add(Activation('relu'))\n",
        "\n",
        "model_4.add(BatchNormalization())\n",
        "model_4.add(MaxPooling2D(pool_size=(2, 2)))\n",
        "model_4.add(Dropout(0.25))\n",
        "\n",
        "model_4.add(Conv2D(64, (3, 3), padding='same'))\n",
        "model_4.add(Activation('relu'))\n",
        "model_4.add(BatchNormalization())\n",
        "model_4.add(Conv2D(64, (3, 3)))\n",
        "model_4.add(Activation('relu'))\n",
        "model_4.add(BatchNormalization())\n",
        "model_4.add(MaxPooling2D(pool_size=(2, 2)))\n",
        "model_4.add(Dropout(0.25))\n",
        "\n",
        "model_4.add(Flatten())\n",
        "\n",
        "model_4.add(Dense(512))\n",
        "model_4.add(Activation('relu'))\n",
        "model_4.add(Dense(256))\n",
        "model_4.add(Activation('relu'))\n",
        "model_4.add(Dropout(0.5))\n",
        "model_4.add(Dense(100))\n",
        "model_4.add(Activation('softmax'))\n",
        "\n",
        "model_4.compile(loss='categorical_crossentropy', optimizer='adam', metrics=['accuracy'])\n",
        "\n",
        "model_4.summary()"
      ]
    },
    {
      "cell_type": "markdown",
      "metadata": {
        "id": "nES6ENxq7Jgp"
      },
      "source": [
        "Обучите созданную модель"
      ]
    },
    {
      "cell_type": "code",
      "execution_count": 11,
      "metadata": {
        "id": "SWIPC22-7Jgp",
        "colab": {
          "base_uri": "https://localhost:8080/"
        },
        "outputId": "db67ea71-fb73-463e-bad5-863f620e5161"
      },
      "outputs": [
        {
          "output_type": "stream",
          "name": "stdout",
          "text": [
            "Epoch 1/12\n",
            "100/100 [==============================] - 15s 62ms/step - loss: 4.3895 - accuracy: 0.0471 - val_loss: 4.7514 - val_accuracy: 0.0150\n",
            "Epoch 2/12\n",
            "100/100 [==============================] - 6s 57ms/step - loss: 3.8362 - accuracy: 0.1201 - val_loss: 4.6959 - val_accuracy: 0.0174\n",
            "Epoch 3/12\n",
            "100/100 [==============================] - 5s 54ms/step - loss: 3.4711 - accuracy: 0.1755 - val_loss: 4.5838 - val_accuracy: 0.0454\n",
            "Epoch 4/12\n",
            "100/100 [==============================] - 6s 61ms/step - loss: 3.1767 - accuracy: 0.2255 - val_loss: 4.0682 - val_accuracy: 0.1028\n",
            "Epoch 5/12\n",
            "100/100 [==============================] - 5s 53ms/step - loss: 2.9443 - accuracy: 0.2718 - val_loss: 3.5115 - val_accuracy: 0.1852\n",
            "Epoch 6/12\n",
            "100/100 [==============================] - 5s 52ms/step - loss: 2.7328 - accuracy: 0.3113 - val_loss: 2.7153 - val_accuracy: 0.3154\n",
            "Epoch 7/12\n",
            "100/100 [==============================] - 6s 56ms/step - loss: 2.5643 - accuracy: 0.3458 - val_loss: 2.6206 - val_accuracy: 0.3414\n",
            "Epoch 8/12\n",
            "100/100 [==============================] - 6s 56ms/step - loss: 2.4092 - accuracy: 0.3761 - val_loss: 2.6248 - val_accuracy: 0.3456\n",
            "Epoch 9/12\n",
            "100/100 [==============================] - 6s 59ms/step - loss: 2.2689 - accuracy: 0.4037 - val_loss: 2.4204 - val_accuracy: 0.3891\n",
            "Epoch 10/12\n",
            "100/100 [==============================] - 5s 54ms/step - loss: 2.1577 - accuracy: 0.4288 - val_loss: 2.2834 - val_accuracy: 0.4131\n",
            "Epoch 11/12\n",
            "100/100 [==============================] - 5s 52ms/step - loss: 2.0348 - accuracy: 0.4581 - val_loss: 2.3834 - val_accuracy: 0.4078\n",
            "Epoch 12/12\n",
            "100/100 [==============================] - 5s 51ms/step - loss: 1.9437 - accuracy: 0.4763 - val_loss: 2.1554 - val_accuracy: 0.4457\n",
            "Epoch 1/24\n",
            "250/250 [==============================] - 8s 28ms/step - loss: 2.1435 - accuracy: 0.4343 - val_loss: 2.8751 - val_accuracy: 0.3149\n",
            "Epoch 2/24\n",
            "250/250 [==============================] - 6s 25ms/step - loss: 1.9702 - accuracy: 0.4718 - val_loss: 2.4126 - val_accuracy: 0.3974\n",
            "Epoch 3/24\n",
            "250/250 [==============================] - 6s 25ms/step - loss: 1.8392 - accuracy: 0.5019 - val_loss: 2.3107 - val_accuracy: 0.4347\n",
            "Epoch 4/24\n",
            "250/250 [==============================] - 6s 24ms/step - loss: 1.7118 - accuracy: 0.5288 - val_loss: 2.3785 - val_accuracy: 0.4215\n",
            "Epoch 5/24\n",
            "250/250 [==============================] - 6s 25ms/step - loss: 1.6150 - accuracy: 0.5514 - val_loss: 2.1652 - val_accuracy: 0.4585\n",
            "Epoch 6/24\n",
            "250/250 [==============================] - 6s 24ms/step - loss: 1.5290 - accuracy: 0.5702 - val_loss: 2.1483 - val_accuracy: 0.4733\n",
            "Epoch 7/24\n",
            "250/250 [==============================] - 6s 25ms/step - loss: 1.4348 - accuracy: 0.5955 - val_loss: 2.2421 - val_accuracy: 0.4619\n",
            "Epoch 8/24\n",
            "250/250 [==============================] - 6s 24ms/step - loss: 1.3722 - accuracy: 0.6105 - val_loss: 2.2366 - val_accuracy: 0.4605\n",
            "Epoch 9/24\n",
            "250/250 [==============================] - 6s 25ms/step - loss: 1.3004 - accuracy: 0.6257 - val_loss: 2.2292 - val_accuracy: 0.4735\n",
            "Epoch 10/24\n",
            "250/250 [==============================] - 6s 26ms/step - loss: 1.2364 - accuracy: 0.6424 - val_loss: 2.4855 - val_accuracy: 0.4422\n",
            "Epoch 11/24\n",
            "250/250 [==============================] - 6s 26ms/step - loss: 1.1756 - accuracy: 0.6549 - val_loss: 2.3536 - val_accuracy: 0.4635\n",
            "Epoch 12/24\n",
            "250/250 [==============================] - 6s 25ms/step - loss: 1.1213 - accuracy: 0.6696 - val_loss: 2.2871 - val_accuracy: 0.4737\n",
            "Epoch 13/24\n",
            "250/250 [==============================] - 7s 26ms/step - loss: 1.0813 - accuracy: 0.6832 - val_loss: 2.3153 - val_accuracy: 0.4727\n",
            "Epoch 14/24\n",
            "250/250 [==============================] - 6s 26ms/step - loss: 1.0282 - accuracy: 0.6948 - val_loss: 2.4924 - val_accuracy: 0.4601\n",
            "Epoch 15/24\n",
            "250/250 [==============================] - 6s 25ms/step - loss: 1.0019 - accuracy: 0.7016 - val_loss: 2.4657 - val_accuracy: 0.4636\n",
            "Epoch 16/24\n",
            "250/250 [==============================] - 6s 26ms/step - loss: 0.9615 - accuracy: 0.7128 - val_loss: 2.4862 - val_accuracy: 0.4705\n",
            "Epoch 17/24\n",
            "250/250 [==============================] - 7s 27ms/step - loss: 0.9037 - accuracy: 0.7261 - val_loss: 2.4572 - val_accuracy: 0.4750\n",
            "Epoch 18/24\n",
            "250/250 [==============================] - 6s 25ms/step - loss: 0.8900 - accuracy: 0.7300 - val_loss: 2.5720 - val_accuracy: 0.4717\n",
            "Epoch 19/24\n",
            "250/250 [==============================] - 7s 27ms/step - loss: 0.8530 - accuracy: 0.7427 - val_loss: 2.5201 - val_accuracy: 0.4699\n",
            "Epoch 20/24\n",
            "250/250 [==============================] - 6s 25ms/step - loss: 0.8265 - accuracy: 0.7483 - val_loss: 2.6934 - val_accuracy: 0.4644\n",
            "Epoch 21/24\n",
            "250/250 [==============================] - 7s 26ms/step - loss: 0.8030 - accuracy: 0.7557 - val_loss: 2.6885 - val_accuracy: 0.4618\n",
            "Epoch 22/24\n",
            "250/250 [==============================] - 6s 25ms/step - loss: 0.7776 - accuracy: 0.7618 - val_loss: 2.6722 - val_accuracy: 0.4696\n",
            "Epoch 23/24\n",
            "250/250 [==============================] - 7s 26ms/step - loss: 0.7577 - accuracy: 0.7692 - val_loss: 2.6358 - val_accuracy: 0.4733\n",
            "Epoch 24/24\n",
            "250/250 [==============================] - 6s 25ms/step - loss: 0.7247 - accuracy: 0.7776 - val_loss: 2.6720 - val_accuracy: 0.4751\n"
          ]
        }
      ],
      "source": [
        "batch_size = 500\n",
        "epochs = 12\n",
        "model_4_history = model_4.fit(trainX, trainY, batch_size=batch_size, epochs=epochs, verbose=1, validation_data=(testX, testY))\n",
        "batch_size = 200\n",
        "epochs = 24\n",
        "model_41_history = model_4.fit(trainX, trainY, batch_size=batch_size, epochs=epochs, verbose=1, validation_data=(testX, testY))"
      ]
    },
    {
      "cell_type": "markdown",
      "metadata": {
        "id": "Y7QF9bQh72eV"
      },
      "source": [
        "### Задание 5. Пойстройте график обучения для каждой модели. Сделайте выводы по каждому из них. Подведите итог и выделите наиболее удачную модель"
      ]
    },
    {
      "cell_type": "code",
      "execution_count": 12,
      "metadata": {
        "colab": {
          "base_uri": "https://localhost:8080/",
          "height": 853
        },
        "id": "HvqpPVoV72te",
        "outputId": "ed239f42-1934-4990-8cc8-e649c226469b"
      },
      "outputs": [
        {
          "output_type": "display_data",
          "data": {
            "text/plain": [
              "<Figure size 1500x1000 with 5 Axes>"
            ],
            "image/png": "[encoded data removed]"
          },
          "metadata": {}
        }
      ],
      "source": [
        "%matplotlib inline\n",
        "import matplotlib.pyplot as plt\n",
        "\n",
        "fig, (model1Plt, model2Plt, model3Plt, model4Plt, model41Plt) = plt.subplots(5, sharex=True)\n",
        "\n",
        "fig.set_figwidth(15)\n",
        "fig.set_figheight(10)\n",
        "\n",
        "model1Plt.set_title(\"Simple Model\")\n",
        "model1Plt.plot(model_1_history.history['accuracy'])\n",
        "model1Plt.plot(model_1_history.history['val_accuracy'])\n",
        "model1Plt.legend(['Simple Model Train', 'Simple Model Test'], loc=\"lower right\")\n",
        "\n",
        "model2Plt.set_title(\"Model with Batch Normalization\")\n",
        "model2Plt.plot(model_2_history.history['accuracy'])\n",
        "model2Plt.plot(model_2_history.history['val_accuracy'])\n",
        "model2Plt.legend(['Model with Batch Normalization Train', 'Model with Batch Normalization Test'], loc=\"lower right\")\n",
        "\n",
        "model3Plt.set_title(\"Model with Dropout\")\n",
        "model3Plt.plot(model_3_history.history['accuracy'])\n",
        "model3Plt.plot(model_3_history.history['val_accuracy'])\n",
        "model3Plt.legend(['Model with Dropout Train', 'Model with Dropout Test'], loc=\"lower right\")\n",
        "\n",
        "model4Plt.set_title(\"Model with Dropout and Batch\")\n",
        "model4Plt.plot(model_4_history.history['accuracy'])\n",
        "model4Plt.plot(model_4_history.history['val_accuracy'])\n",
        "_ = model4Plt.legend(['Model with Dropout and Batch Train', 'Model with Dropout and Batch Test'], loc=\"lower right\")\n",
        "\n",
        "model41Plt.set_title(\"Model with Dropout and Batch 24 epochs\")\n",
        "model41Plt.plot(model_41_history.history['accuracy'])\n",
        "model41Plt.plot(model_41_history.history['val_accuracy'])\n",
        "_ = model41Plt.legend(['Model with Dropout and Batch Train', 'Model with Dropout and Batch Test'], loc=\"lower right\")\n"
      ]
    },
    {
      "cell_type": "markdown",
      "metadata": {
        "id": "Ogg1lwqm9jKe"
      },
      "source": [
        "#### Ваши выводы\n",
        "\n",
        "Анализ графиков моделей показывает, что нормализация батчами мало влияет на обучение модели и итоговую точность. С другой стороны, использование Dropout или комбинации Dropout и нормализации батчами значительно повышает эффективность модели."
      ]
    },
    {
      "cell_type": "markdown",
      "metadata": {
        "id": "N9mdlVQc9jUb"
      },
      "source": [
        "#### Ваш итог\n",
        "\n",
        "Самая точная модель, достигшая точности 47,51%, использовала нормализацию батчами и Dropout и была обучена на 25 эпохах"
      ]
    }
  ],
  "metadata": {
    "accelerator": "GPU",
    "colab": {
      "provenance": [],
      "gpuType": "T4",
      "include_colab_link": true
    },
    "gpuClass": "standard",
    "kernelspec": {
      "display_name": "base",
      "language": "python",
      "name": "python3"
    },
    "language_info": {
      "codemirror_mode": {
        "name": "ipython",
        "version": 3
      },
      "file_extension": ".py",
      "mimetype": "text/x-python",
      "name": "python",
      "nbconvert_exporter": "python",
      "pygments_lexer": "ipython3",
      "version": "3.9.13"
    },
    "vscode": {
      "interpreter": {
        "hash": "ad2bdc8ecc057115af97d19610ffacc2b4e99fae6737bb82f5d7fb13d2f2c186"
      }
    }
  },
  "nbformat": 4,
  "nbformat_minor": 0
}