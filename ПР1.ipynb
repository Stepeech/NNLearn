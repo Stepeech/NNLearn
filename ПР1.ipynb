{
  "cells": [
    {
      "cell_type": "markdown",
      "metadata": {
        "id": "view-in-github",
        "colab_type": "text"
      },
      "source": [
        "<a href=\"https://colab.research.google.com/github/Stepeech/NNLearn/blob/main/%D0%9F%D0%A01.ipynb\" target=\"_parent\"><img src=\"https://colab.research.google.com/assets/colab-badge.svg\" alt=\"Open In Colab\"/></a>"
      ]
    },
    {
      "cell_type": "markdown",
      "metadata": {
        "id": "f6PMlmz-87dD"
      },
      "source": [
        "# Практическая работа №1\n"
      ]
    },
    {
      "cell_type": "markdown",
      "metadata": {
        "id": "zqiwoc2q9SRx"
      },
      "source": [
        "## Задание №1\n",
        "Напишите функцию, которая присваивает $w_{1}$ и $w_{2}$ случайные веса."
      ]
    },
    {
      "cell_type": "code",
      "execution_count": null,
      "metadata": {
        "id": "C6Kg4D6m9L7x",
        "colab": {
          "base_uri": "https://localhost:8080/"
        },
        "outputId": "f482646e-c1f1-4331-a73b-7637c698f3a9"
      },
      "outputs": [
        {
          "output_type": "stream",
          "name": "stdout",
          "text": [
            "[0.67, 0.11]\n"
          ]
        }
      ],
      "source": [
        "from random import randint\n",
        "\n",
        "def generateWeights(w):\n",
        "  for i in range(len(w)):\n",
        "    w[i] = randint(0,100)/100\n",
        "\n",
        "w = [None] * 2\n",
        "\n",
        "generateWeights(w)\n",
        "\n",
        "print(w)"
      ]
    },
    {
      "cell_type": "markdown",
      "metadata": {
        "id": "4c81yJPw-Nsw"
      },
      "source": [
        "## Задание №2\n",
        "Напишите функцию, которая делает проверку сразу всех примеров учебного набора с текущими весами"
      ]
    },
    {
      "cell_type": "code",
      "execution_count": null,
      "metadata": {
        "id": "Kifbl8Hc_T6W"
      },
      "outputs": [],
      "source": [
        "def predict(x, w):\n",
        "  summator = 0\n",
        "  for i in range(len(w)):\n",
        "    summator += x[i] * w[i]\n",
        "\n",
        "  v = 1 if summator >= 1 else 0\n",
        "\n",
        "  return v"
      ]
    },
    {
      "cell_type": "code",
      "execution_count": null,
      "metadata": {
        "id": "W1Sv4q7g-LP2"
      },
      "outputs": [],
      "source": [
        "def check(x, y, w, output=True):\n",
        "  prediction_errors = 0\n",
        "\n",
        "  for i in range(len(x)):\n",
        "    predicted = predict(x[i], w)\n",
        "\n",
        "    prediction_error = y[i] - predicted\n",
        "    if (prediction_error != 0):\n",
        "      prediction_errors += 1\n",
        "\n",
        "    print(f\"{x[i]} - {predicted} - {y[i]} - {prediction_error}\")\n",
        "\n",
        "  result = 1 if prediction_errors == 0 else (1 - prediction_errors / len(x))\n",
        "  return result"
      ]
    },
    {
      "cell_type": "code",
      "execution_count": null,
      "metadata": {
        "colab": {
          "base_uri": "https://localhost:8080/"
        },
        "id": "VHey46WqBDsu",
        "outputId": "eaa16d20-76c5-4901-de5b-fdb1170ff07e"
      },
      "outputs": [
        {
          "output_type": "stream",
          "name": "stdout",
          "text": [
            "[1, 1] - 0 - 0 - 0\n",
            "[1, 0] - 0 - 1 - 1\n",
            "[0, 1] - 0 - 1 - 1\n",
            "[0, 0] - 0 - 0 - 0\n"
          ]
        },
        {
          "output_type": "execute_result",
          "data": {
            "text/plain": [
              "0.5"
            ]
          },
          "metadata": {},
          "execution_count": 23
        }
      ],
      "source": [
        "x_train = [[1,1], [1,0], [0,1], [0,0]]\n",
        "y_train = [0, 1, 1, 0]\n",
        "\n",
        "check(x_train, y_train, w)"
      ]
    },
    {
      "cell_type": "markdown",
      "metadata": {
        "id": "1cG5ZUv2BfQf"
      },
      "source": [
        "## Задание №3\n",
        "\n",
        "Со случайными стартовыми весами обучить нейрон дельта методом для следующих операций:\n"
      ]
    },
    {
      "cell_type": "code",
      "execution_count": null,
      "metadata": {
        "id": "50JZVXz0CNVT"
      },
      "outputs": [],
      "source": [
        "def train(x_train, y_train, w, speed = 0.3):\n",
        "  for i in range(len(x_train)):\n",
        "    \n",
        "    error = y_train[i] - predict(x_train[i], w)\n",
        "\n",
        "    if error != 0:\n",
        "      for ii in range(len(w)):\n",
        "        w[ii] = w[ii] + error * x_train[i][ii] * speed\n"
      ]
    },
    {
      "cell_type": "code",
      "execution_count": null,
      "metadata": {
        "id": "yJgk68Z0Ji0Q"
      },
      "outputs": [],
      "source": [
        "def trainAndCheck(x_train, y_train, MAX_EPOCH_COUNT = 5, SPEED = 0.3):\n",
        "  generateWeights(w)\n",
        "  print(f\"Стартовые веса: {w}\")\n",
        "\n",
        "  accuracy = 0\n",
        "  epoch = 1\n",
        "\n",
        "  while accuracy < 1 and epoch <= MAX_EPOCH_COUNT:\n",
        "    train(x_train, y_train, w)\n",
        "    accuracy = check(x_train, y_train, w, False)\n",
        "    print(f\"Epoch: {epoch}, Acc: {accuracy * 100}%, Weights: {w}\")\n",
        "\n",
        "    epoch += 1\n",
        "\n",
        "  print(f\"Конечные веса: {w}\")\n",
        "  print(f'Accuracy: {check(x_train, y_train, w) * 100}%\\n')\n",
        "\n",
        "  return w"
      ]
    },
    {
      "cell_type": "code",
      "execution_count": null,
      "metadata": {
        "colab": {
          "base_uri": "https://localhost:8080/"
        },
        "id": "o29b2HnFBeyE",
        "outputId": "8fd3c3f4-1c0e-415a-a8aa-b96bbe649231"
      },
      "outputs": [
        {
          "output_type": "stream",
          "name": "stdout",
          "text": [
            "Конъюнкция\n",
            "\n",
            "Стартовые веса: [0.55, 0.92]\n",
            "[1, 1] - 1 - 1 - 0\n",
            "[1, 0] - 0 - 0 - 0\n",
            "[0, 1] - 0 - 0 - 0\n",
            "[0, 0] - 0 - 0 - 0\n",
            "Epoch: 1, Acc: 100%, Weights: [0.55, 0.92]\n",
            "Конечные веса: [0.55, 0.92]\n",
            "[1, 1] - 1 - 1 - 0\n",
            "[1, 0] - 0 - 0 - 0\n",
            "[0, 1] - 0 - 0 - 0\n",
            "[0, 0] - 0 - 0 - 0\n",
            "Accuracy: 100%\n",
            "\n",
            "Дизъюнкция\n",
            "\n",
            "Стартовые веса: [0.22, 0.73]\n",
            "[1, 1] - 1 - 1 - 0\n",
            "[1, 0] - 0 - 1 - 1\n",
            "[0, 1] - 1 - 1 - 0\n",
            "[0, 0] - 0 - 0 - 0\n",
            "Epoch: 1, Acc: 75.0%, Weights: [0.8200000000000001, 1.03]\n",
            "[1, 1] - 1 - 1 - 0\n",
            "[1, 0] - 1 - 1 - 0\n",
            "[0, 1] - 1 - 1 - 0\n",
            "[0, 0] - 0 - 0 - 0\n",
            "Epoch: 2, Acc: 100%, Weights: [1.12, 1.03]\n",
            "Конечные веса: [1.12, 1.03]\n",
            "[1, 1] - 1 - 1 - 0\n",
            "[1, 0] - 1 - 1 - 0\n",
            "[0, 1] - 1 - 1 - 0\n",
            "[0, 0] - 0 - 0 - 0\n",
            "Accuracy: 100%\n",
            "\n",
            "XOR\n",
            "\n",
            "Стартовые веса: [0.49, 0.64]\n",
            "[1, 1] - 1 - 0 - -1\n",
            "[1, 0] - 0 - 1 - 1\n",
            "[0, 1] - 0 - 1 - 1\n",
            "[0, 0] - 0 - 0 - 0\n",
            "Epoch: 1, Acc: 25.0%, Weights: [0.49, 0.64]\n",
            "[1, 1] - 1 - 0 - -1\n",
            "[1, 0] - 0 - 1 - 1\n",
            "[0, 1] - 0 - 1 - 1\n",
            "[0, 0] - 0 - 0 - 0\n",
            "Epoch: 2, Acc: 25.0%, Weights: [0.49, 0.64]\n",
            "[1, 1] - 1 - 0 - -1\n",
            "[1, 0] - 0 - 1 - 1\n",
            "[0, 1] - 0 - 1 - 1\n",
            "[0, 0] - 0 - 0 - 0\n",
            "Epoch: 3, Acc: 25.0%, Weights: [0.49, 0.64]\n",
            "[1, 1] - 1 - 0 - -1\n",
            "[1, 0] - 0 - 1 - 1\n",
            "[0, 1] - 0 - 1 - 1\n",
            "[0, 0] - 0 - 0 - 0\n",
            "Epoch: 4, Acc: 25.0%, Weights: [0.49, 0.64]\n",
            "[1, 1] - 1 - 0 - -1\n",
            "[1, 0] - 0 - 1 - 1\n",
            "[0, 1] - 0 - 1 - 1\n",
            "[0, 0] - 0 - 0 - 0\n",
            "Epoch: 5, Acc: 25.0%, Weights: [0.49, 0.64]\n",
            "Конечные веса: [0.49, 0.64]\n",
            "[1, 1] - 1 - 0 - -1\n",
            "[1, 0] - 0 - 1 - 1\n",
            "[0, 1] - 0 - 1 - 1\n",
            "[0, 0] - 0 - 0 - 0\n",
            "Accuracy: 25.0%\n",
            "\n",
            "Конъюнкция отрицания\n",
            "\n",
            "Стартовые веса: [0.83, 0.52]\n",
            "[1, 1] - 1 - 0 - -1\n",
            "[1, 0] - 0 - 0 - 0\n",
            "[0, 1] - 0 - 1 - 1\n",
            "[0, 0] - 0 - 0 - 0\n",
            "Epoch: 1, Acc: 50.0%, Weights: [0.53, 0.52]\n",
            "[1, 1] - 0 - 0 - 0\n",
            "[1, 0] - 0 - 0 - 0\n",
            "[0, 1] - 0 - 1 - 1\n",
            "[0, 0] - 0 - 0 - 0\n",
            "Epoch: 2, Acc: 75.0%, Weights: [0.23000000000000004, 0.52]\n",
            "[1, 1] - 1 - 0 - -1\n",
            "[1, 0] - 0 - 0 - 0\n",
            "[0, 1] - 0 - 1 - 1\n",
            "[0, 0] - 0 - 0 - 0\n",
            "Epoch: 3, Acc: 50.0%, Weights: [0.23000000000000004, 0.8200000000000001]\n",
            "[1, 1] - 0 - 0 - 0\n",
            "[1, 0] - 0 - 0 - 0\n",
            "[0, 1] - 0 - 1 - 1\n",
            "[0, 0] - 0 - 0 - 0\n",
            "Epoch: 4, Acc: 75.0%, Weights: [-0.06999999999999995, 0.8200000000000001]\n",
            "[1, 1] - 1 - 0 - -1\n",
            "[1, 0] - 0 - 0 - 0\n",
            "[0, 1] - 1 - 1 - 0\n",
            "[0, 0] - 0 - 0 - 0\n",
            "Epoch: 5, Acc: 75.0%, Weights: [-0.06999999999999995, 1.12]\n",
            "Конечные веса: [-0.06999999999999995, 1.12]\n",
            "[1, 1] - 1 - 0 - -1\n",
            "[1, 0] - 0 - 0 - 0\n",
            "[0, 1] - 1 - 1 - 0\n",
            "[0, 0] - 0 - 0 - 0\n",
            "Accuracy: 75.0%\n",
            "\n",
            "Стартовые веса: [0.26, 0.53]\n",
            "[1, 1] - 1 - 0 - -1\n",
            "[1, 0] - 0 - 0 - 0\n",
            "[0, 1] - 0 - 1 - 1\n",
            "[0, 0] - 0 - 0 - 0\n",
            "Epoch: 1, Acc: 50.0%, Weights: [0.26, 0.8300000000000001]\n",
            "[1, 1] - 0 - 0 - 0\n",
            "[1, 0] - 0 - 0 - 0\n",
            "[0, 1] - 0 - 1 - 1\n",
            "[0, 0] - 0 - 0 - 0\n",
            "Epoch: 2, Acc: 75.0%, Weights: [-0.03999999999999998, 0.8300000000000001]\n",
            "[1, 1] - 1 - 0 - -1\n",
            "[1, 0] - 0 - 0 - 0\n",
            "[0, 1] - 1 - 1 - 0\n",
            "[0, 0] - 0 - 0 - 0\n",
            "Epoch: 3, Acc: 75.0%, Weights: [-0.03999999999999998, 1.1300000000000001]\n",
            "[1, 1] - 0 - 0 - 0\n",
            "[1, 0] - 0 - 0 - 0\n",
            "[0, 1] - 1 - 1 - 0\n",
            "[0, 0] - 0 - 0 - 0\n",
            "Epoch: 4, Acc: 100%, Weights: [-0.33999999999999997, 1.1300000000000001]\n",
            "Конечные веса: [-0.33999999999999997, 1.1300000000000001]\n",
            "[1, 1] - 0 - 0 - 0\n",
            "[1, 0] - 0 - 0 - 0\n",
            "[0, 1] - 1 - 1 - 0\n",
            "[0, 0] - 0 - 0 - 0\n",
            "Accuracy: 100%\n",
            "\n",
            "Конъюнкция  x1  и отрицания  x2\n",
            "\n",
            "Стартовые веса: [0.54, 0.46]\n",
            "[1, 1] - 0 - 0 - 0\n",
            "[1, 0] - 0 - 1 - 1\n",
            "[0, 1] - 0 - 0 - 0\n",
            "[0, 0] - 0 - 0 - 0\n",
            "Epoch: 1, Acc: 75.0%, Weights: [0.54, 0.16000000000000003]\n",
            "[1, 1] - 1 - 0 - -1\n",
            "[1, 0] - 0 - 1 - 1\n",
            "[0, 1] - 0 - 0 - 0\n",
            "[0, 0] - 0 - 0 - 0\n",
            "Epoch: 2, Acc: 50.0%, Weights: [0.8400000000000001, 0.16000000000000003]\n",
            "[1, 1] - 0 - 0 - 0\n",
            "[1, 0] - 0 - 1 - 1\n",
            "[0, 1] - 0 - 0 - 0\n",
            "[0, 0] - 0 - 0 - 0\n",
            "Epoch: 3, Acc: 75.0%, Weights: [0.8400000000000001, -0.13999999999999996]\n",
            "[1, 1] - 1 - 0 - -1\n",
            "[1, 0] - 1 - 1 - 0\n",
            "[0, 1] - 0 - 0 - 0\n",
            "[0, 0] - 0 - 0 - 0\n",
            "Epoch: 4, Acc: 75.0%, Weights: [1.1400000000000001, -0.13999999999999996]\n",
            "[1, 1] - 0 - 0 - 0\n",
            "[1, 0] - 1 - 1 - 0\n",
            "[0, 1] - 0 - 0 - 0\n",
            "[0, 0] - 0 - 0 - 0\n",
            "Epoch: 5, Acc: 100%, Weights: [1.1400000000000001, -0.43999999999999995]\n",
            "Конечные веса: [1.1400000000000001, -0.43999999999999995]\n",
            "[1, 1] - 0 - 0 - 0\n",
            "[1, 0] - 1 - 1 - 0\n",
            "[0, 1] - 0 - 0 - 0\n",
            "[0, 0] - 0 - 0 - 0\n",
            "Accuracy: 100%\n",
            "\n",
            "Стартовые веса: [0.71, 0.98]\n",
            "[1, 1] - 1 - 0 - -1\n",
            "[1, 0] - 0 - 1 - 1\n",
            "[0, 1] - 0 - 0 - 0\n",
            "[0, 0] - 0 - 0 - 0\n",
            "Epoch: 1, Acc: 50.0%, Weights: [0.71, 0.6799999999999999]\n",
            "[1, 1] - 1 - 0 - -1\n",
            "[1, 0] - 0 - 1 - 1\n",
            "[0, 1] - 0 - 0 - 0\n",
            "[0, 0] - 0 - 0 - 0\n",
            "Epoch: 2, Acc: 50.0%, Weights: [0.71, 0.37999999999999995]\n",
            "[1, 1] - 0 - 0 - 0\n",
            "[1, 0] - 0 - 1 - 1\n",
            "[0, 1] - 0 - 0 - 0\n",
            "[0, 0] - 0 - 0 - 0\n",
            "Epoch: 3, Acc: 75.0%, Weights: [0.71, 0.07999999999999996]\n",
            "[1, 1] - 1 - 0 - -1\n",
            "[1, 0] - 1 - 1 - 0\n",
            "[0, 1] - 0 - 0 - 0\n",
            "[0, 0] - 0 - 0 - 0\n",
            "Epoch: 4, Acc: 75.0%, Weights: [1.01, 0.07999999999999996]\n",
            "[1, 1] - 0 - 0 - 0\n",
            "[1, 0] - 1 - 1 - 0\n",
            "[0, 1] - 0 - 0 - 0\n",
            "[0, 0] - 0 - 0 - 0\n",
            "Epoch: 5, Acc: 100%, Weights: [1.01, -0.22000000000000003]\n",
            "Конечные веса: [1.01, -0.22000000000000003]\n",
            "[1, 1] - 0 - 0 - 0\n",
            "[1, 0] - 1 - 1 - 0\n",
            "[0, 1] - 0 - 0 - 0\n",
            "[0, 0] - 0 - 0 - 0\n",
            "Accuracy: 100%\n",
            "\n"
          ]
        }
      ],
      "source": [
        "print('Конъюнкция\\n')\n",
        "trainAndCheck(\n",
        "    [[1, 1], [1, 0], [0, 1], [0, 0]],\n",
        "    [1, 0, 0, 0]\n",
        ")\n",
        "\n",
        "print('Дизъюнкция\\n')\n",
        "trainAndCheck(\n",
        "    [[1, 1], [1, 0], [0, 1], [0, 0]],\n",
        "    [1, 1, 1, 0]\n",
        ")\n",
        "\n",
        "print('XOR\\n')\n",
        "trainAndCheck(\n",
        "    [[1, 1], [1, 0], [0, 1], [0, 0]],\n",
        "    [0, 1, 1, 0]\n",
        ")\n",
        "\n",
        "print('Конъюнкция отрицания\\n')\n",
        "trainAndCheck(\n",
        "    [[1, 1], [1, 0], [0, 1], [0, 0]],\n",
        "    [0, 0, 1, 0]\n",
        ")\n",
        "f1 = trainAndCheck(\n",
        "    [[1, 1], [1, 0], [0, 1], [0, 0]],\n",
        "    [0, 0, 1, 0]\n",
        ")\n",
        "\n",
        "print('Конъюнкция  x1  и отрицания  x2\\n')\n",
        "trainAndCheck(\n",
        "    [[1, 1], [1, 0], [0, 1], [0, 0]],\n",
        "    [0, 1, 0, 0]\n",
        ")\n",
        "\n",
        "f2 = trainAndCheck(\n",
        "    [[1, 1], [1, 0], [0, 1], [0, 0]],\n",
        "    [0, 1, 0, 0]\n",
        ")"
      ]
    },
    {
      "cell_type": "markdown",
      "metadata": {
        "id": "zFXi7FjrKNGB"
      },
      "source": [
        "## Задание №4\n",
        "Изменить кодировку данных и функцию активации.\n",
        "Новые параметры:\n",
        "- $1$ - истина, $-1$ - ложь;\n",
        "- Функция активации: пороговая;\n",
        "- Если полученное значение больше $0$, результат = $1$, иначе = $-1$"
      ]
    },
    {
      "cell_type": "code",
      "execution_count": null,
      "metadata": {
        "id": "4NgwoSIvKeH7"
      },
      "outputs": [],
      "source": [
        "def predict(x, w):\n",
        "  summator = 0\n",
        "  for i in range(len(w)):\n",
        "    summator += x[i] * w[i]\n",
        "\n",
        "  act = 1 if summator >= 0 else -1\n",
        "\n",
        "  return act"
      ]
    },
    {
      "cell_type": "code",
      "execution_count": null,
      "metadata": {
        "colab": {
          "base_uri": "https://localhost:8080/"
        },
        "id": "AIG9c-1rLY_H",
        "outputId": "2277dbb0-9676-4b75-d6cf-6a31d46a57b6"
      },
      "outputs": [
        {
          "output_type": "stream",
          "name": "stdout",
          "text": [
            "Стартовые веса: [0.64, 0.13]\n",
            "[1, 1] - 1 - 1 - 0\n",
            "[1, 0] - 1 - 0 - -1\n",
            "[0, 1] - -1 - 0 - 1\n",
            "[0, 0] - 1 - 0 - -1\n",
            "Epoch: 1, Acc: 25.0%, Weights: [0.34, -0.16999999999999998]\n",
            "[1, 1] - 1 - 1 - 0\n",
            "[1, 0] - 1 - 0 - -1\n",
            "[0, 1] - 1 - 0 - -1\n",
            "[0, 0] - 1 - 0 - -1\n",
            "Epoch: 2, Acc: 25.0%, Weights: [0.040000000000000036, 0.13]\n",
            "[1, 1] - -1 - 1 - 2\n",
            "[1, 0] - -1 - 0 - 1\n",
            "[0, 1] - -1 - 0 - 1\n",
            "[0, 0] - 1 - 0 - -1\n",
            "Epoch: 3, Acc: 0.0%, Weights: [-0.25999999999999995, -0.16999999999999998]\n",
            "[1, 1] - 1 - 1 - 0\n",
            "[1, 0] - 1 - 0 - -1\n",
            "[0, 1] - 1 - 0 - -1\n",
            "[0, 0] - 1 - 0 - -1\n",
            "Epoch: 4, Acc: 25.0%, Weights: [0.040000000000000036, 0.13]\n",
            "[1, 1] - -1 - 1 - 2\n",
            "[1, 0] - -1 - 0 - 1\n",
            "[0, 1] - -1 - 0 - 1\n",
            "[0, 0] - 1 - 0 - -1\n",
            "Epoch: 5, Acc: 0.0%, Weights: [-0.25999999999999995, -0.16999999999999998]\n",
            "Конечные веса: [-0.25999999999999995, -0.16999999999999998]\n",
            "[1, 1] - -1 - 1 - 2\n",
            "[1, 0] - -1 - 0 - 1\n",
            "[0, 1] - -1 - 0 - 1\n",
            "[0, 0] - 1 - 0 - -1\n",
            "Accuracy: 0.0%\n",
            "\n"
          ]
        },
        {
          "output_type": "execute_result",
          "data": {
            "text/plain": [
              "[-0.25999999999999995, -0.16999999999999998]"
            ]
          },
          "metadata": {},
          "execution_count": 28
        }
      ],
      "source": [
        "trainAndCheck(\n",
        "    [[1, 1], [1, 0], [0, 1], [0, 0]],\n",
        "    [1, 0, 0, 0]\n",
        ")"
      ]
    },
    {
      "cell_type": "markdown",
      "metadata": {
        "id": "XeG0kpT6O15S"
      },
      "source": []
    },
    {
      "cell_type": "markdown",
      "metadata": {
        "id": "_pU8MM9pO66P"
      },
      "source": [
        "## Задание №5\n",
        "Добавить ещё один вход данных на нейрон (на дополнительный вход всегда приходит единица, это аналог нейрона смещения)\n"
      ]
    },
    {
      "cell_type": "code",
      "execution_count": null,
      "metadata": {
        "id": "n9IUXWAvnQlX"
      },
      "outputs": [],
      "source": [
        "def predict(x, w):\n",
        "  summator = 0\n",
        "  for i in range(len(w)):\n",
        "    summator += x[i] * w[i]\n",
        "\n",
        "  act = 1 if summator >= 1 else 0\n",
        "\n",
        "  return act"
      ]
    },
    {
      "cell_type": "code",
      "execution_count": null,
      "metadata": {
        "colab": {
          "base_uri": "https://localhost:8080/"
        },
        "id": "nLsm3Dh6O3nh",
        "outputId": "cfe667d7-3088-45ff-9c75-c71e2453aebf"
      },
      "outputs": [
        {
          "output_type": "stream",
          "name": "stdout",
          "text": [
            "Стартовые веса: [0.65, 0.99, 0.03]\n",
            "[1, 1, 0] - 1 - 0 - -1\n",
            "[1, 0, 1] - 0 - 1 - 1\n",
            "[0, 1, 1] - 1 - 1 - 0\n",
            "[0, 0, 1] - 0 - 0 - 0\n",
            "Epoch: 1, Acc: 50.0%, Weights: [0.65, 0.69, 0.32999999999999996]\n",
            "[1, 1, 0] - 1 - 0 - -1\n",
            "[1, 0, 1] - 1 - 1 - 0\n",
            "[0, 1, 1] - 1 - 1 - 0\n",
            "[0, 0, 1] - 0 - 0 - 0\n",
            "Epoch: 2, Acc: 75.0%, Weights: [0.65, 0.38999999999999996, 0.6299999999999999]\n",
            "[1, 1, 0] - 0 - 0 - 0\n",
            "[1, 0, 1] - 1 - 1 - 0\n",
            "[0, 1, 1] - 1 - 1 - 0\n",
            "[0, 0, 1] - 0 - 0 - 0\n",
            "Epoch: 3, Acc: 100%, Weights: [0.65, 0.08999999999999997, 0.9299999999999999]\n",
            "Конечные веса: [0.65, 0.08999999999999997, 0.9299999999999999]\n",
            "[1, 1, 0] - 0 - 0 - 0\n",
            "[1, 0, 1] - 1 - 1 - 0\n",
            "[0, 1, 1] - 1 - 1 - 0\n",
            "[0, 0, 1] - 0 - 0 - 0\n",
            "Accuracy: 100%\n",
            "\n"
          ]
        },
        {
          "output_type": "execute_result",
          "data": {
            "text/plain": [
              "[0.65, 0.08999999999999997, 0.9299999999999999]"
            ]
          },
          "metadata": {},
          "execution_count": 30
        }
      ],
      "source": [
        "w = [None] * 3\n",
        "\n",
        "trainAndCheck(\n",
        "    [[1, 1, 0], [1, 0, 1], [0, 1, 1], [0, 0, 1]],\n",
        "    [0, 1, 1, 0],\n",
        "    MAX_EPOCH_COUNT = 10,\n",
        ")"
      ]
    },
    {
      "cell_type": "markdown",
      "metadata": {
        "id": "g6VxZ61Qf0R_"
      },
      "source": [
        "## Задание №6\n",
        "Создать и обучить простую нейронную сеть, состоящую из трех нейронов, которая решает задачу XOR (исключающее ИЛИ)"
      ]
    },
    {
      "cell_type": "code",
      "execution_count": null,
      "metadata": {
        "id": "f-CNg21WrbEx"
      },
      "outputs": [],
      "source": [
        "def predictxor(x, w0, w1, w):\n",
        "  act1 = predict(x, w0) * w[0]\n",
        "  act2 = predict(x, w1) * w[1]\n",
        "  summator = act1 + act2\n",
        "\n",
        "  act = 1 if summator >= 0.5 else 0\n",
        "  return act"
      ]
    },
    {
      "cell_type": "code",
      "execution_count": null,
      "metadata": {
        "id": "s1FizNOXsVyz"
      },
      "outputs": [],
      "source": [
        "def checkxor(x, y, w0, w1, w, output=True):\n",
        "  prediction_errors = 0\n",
        "\n",
        "  for i in range(len(x)):\n",
        "    predicted = predictxor(x[i], w0, w1, w)\n",
        "\n",
        "    prediction_error = y[i] - predicted\n",
        "    if (prediction_error != 0):\n",
        "      prediction_errors += 1\n",
        "\n",
        "    if output:\n",
        "      print(f\"{x[i]} - {predicted} - {y[i]} - {prediction_error}\")\n",
        "\n",
        "  result = 1 if prediction_errors == 0 else (1 - prediction_errors / len(x))\n",
        "  return result"
      ]
    },
    {
      "cell_type": "code",
      "execution_count": null,
      "metadata": {
        "colab": {
          "base_uri": "https://localhost:8080/"
        },
        "id": "O4zeGUERty_0",
        "outputId": "9f5ad85f-5dee-40ba-a9b7-e1b3585df25f"
      },
      "outputs": [
        {
          "output_type": "execute_result",
          "data": {
            "text/plain": [
              "[-0.25999999999999995, -0.16999999999999998]"
            ]
          },
          "metadata": {},
          "execution_count": 33
        }
      ],
      "source": [
        "f1"
      ]
    },
    {
      "cell_type": "code",
      "execution_count": null,
      "metadata": {
        "colab": {
          "base_uri": "https://localhost:8080/"
        },
        "id": "w1vMLy6gt1xK",
        "outputId": "a3ea0de8-d4da-4b1c-ef2b-2b5bc9114510"
      },
      "outputs": [
        {
          "output_type": "execute_result",
          "data": {
            "text/plain": [
              "[-0.25999999999999995, -0.16999999999999998]"
            ]
          },
          "metadata": {},
          "execution_count": 34
        }
      ],
      "source": [
        "f2"
      ]
    },
    {
      "cell_type": "code",
      "execution_count": null,
      "metadata": {
        "colab": {
          "base_uri": "https://localhost:8080/"
        },
        "id": "mL6pERjPsslH",
        "outputId": "d026943a-2b5a-4b5f-e515-a183304b0c21"
      },
      "outputs": [
        {
          "output_type": "stream",
          "name": "stdout",
          "text": [
            "[1, 1] - 0 - 0 - 0\n",
            "[1, 0] - 1 - 1 - 0\n",
            "[0, 1] - 1 - 1 - 0\n",
            "[0, 0] - 0 - 0 - 0\n"
          ]
        },
        {
          "output_type": "execute_result",
          "data": {
            "text/plain": [
              "1"
            ]
          },
          "metadata": {},
          "execution_count": 35
        }
      ],
      "source": [
        "checkxor(\n",
        "    [[1, 1], [1, 0], [0, 1], [0, 0]],\n",
        "    [0, 1, 1, 0],\n",
        "    [-0.4099999999999999, 1.2000000000000002],\n",
        "    [1.1700000000000002, -0.33],\n",
        "    [0.5, 0.5]\n",
        ")"
      ]
    }
  ],
  "metadata": {
    "colab": {
      "provenance": [],
      "include_colab_link": true
    },
    "kernelspec": {
      "display_name": "Python 3",
      "name": "python3"
    },
    "language_info": {
      "codemirror_mode": {
        "name": "ipython",
        "version": 3
      },
      "file_extension": ".py",
      "mimetype": "text/x-python",
      "name": "python",
      "nbconvert_exporter": "python",
      "pygments_lexer": "ipython3",
      "version": "3.9.16"
    }
  },
  "nbformat": 4,
  "nbformat_minor": 0
}